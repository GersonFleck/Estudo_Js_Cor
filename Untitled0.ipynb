{
  "nbformat": 4,
  "nbformat_minor": 0,
  "metadata": {
    "colab": {
      "provenance": [],
      "toc_visible": true,
      "authorship_tag": "ABX9TyMQgR3ChyAiJclsm8RmnubS",
      "include_colab_link": true
    },
    "kernelspec": {
      "name": "python3",
      "display_name": "Python 3"
    },
    "language_info": {
      "name": "python"
    }
  },
  "cells": [
    {
      "cell_type": "markdown",
      "metadata": {
        "id": "view-in-github",
        "colab_type": "text"
      },
      "source": [
        "<a href=\"https://colab.research.google.com/github/GersonFleck/Estudo_Js_Cor/blob/master/Untitled0.ipynb\" target=\"_parent\"><img src=\"https://colab.research.google.com/assets/colab-badge.svg\" alt=\"Open In Colab\"/></a>"
      ]
    },
    {
      "cell_type": "code",
      "execution_count": null,
      "metadata": {
        "colab": {
          "base_uri": "https://localhost:8080/"
        },
        "id": "jQzdOtXnBV0g",
        "outputId": "0960b38e-bf51-4939-a1aa-0ab155e01020"
      },
      "outputs": [
        {
          "output_type": "stream",
          "name": "stdout",
          "text": [
            "10\n",
            "Digite um numero 2\n",
            "voce errou numero de tentativas restantes: 4\n",
            "Digite um numero 3\n",
            "voce errou numero de tentativas restantes: 3\n",
            "Digite um numero 5\n",
            "voce errou numero de tentativas restantes: 2\n",
            "Digite um numero 10\n",
            "Acertou\n"
          ]
        }
      ],
      "source": [
        "import random\n",
        "numero_aleatorio = random.randint(1,50)\n",
        "print(numero_aleatorio)\n",
        "tentativas = 5\n",
        "i = 0\n",
        "while i < tentativas:\n",
        "   usuario = int(input(\"Digite um numero \"))\n",
        "   i += 1\n",
        "\n",
        "   if usuario == numero_aleatorio:\n",
        "       print(\"Acertou\")\n",
        "       break\n",
        "\n",
        "   else:\n",
        "        tentativas_restantes = tentativas - i\n",
        "        print(f\"voce errou numero de tentativas restantes: {tentativas_restantes}\")\n",
        "\n",
        "if i == tentativas and usuario != numero_aleatorio:\n",
        "   print(f\"voce errou o numero era {numero_aleatorio}\")\n"
      ]
    },
    {
      "cell_type": "code",
      "source": [
        "nomes = []\n",
        "idades = []\n",
        "pessoas = 0\n",
        "idoso = 0\n",
        "menor = 0\n",
        "\n",
        "\n",
        "\n",
        "while True:\n",
        "\n",
        "    nome = input(\"Digite seu nome ou sair para parar \")\n",
        "    if nome == \"sair\":\n",
        "      idadeMaior = max(idades) if idades else None\n",
        "      idadeMenor = min(idades) if idades else None\n",
        "      print(f'O numero de idosos é: {idoso} e adolescentes é: {menor}')\n",
        "      print(f'A menor idade foi de: {idadeMenor} e a maior foi de {idadeMaior}')\n",
        "      print(f'A media de idades é de : {media}')\n",
        "      break\n",
        "    idade = int(input(\"Digite sua idade \"))\n",
        "    pessoas += 1\n",
        "\n",
        "    nomes.append(nome)\n",
        "    idades.append(idade)\n",
        "\n",
        "    if len(idades) > 0:\n",
        "        media = sum(idades) / len(idades)\n",
        "\n",
        "    idoso = sum(1 for idade in idades if idade >= 60)\n",
        "    menor = sum(1 for idade in idades if idade < 18)\n",
        "\n",
        "    print(f'Nome: {nome} e Idade: {idade}')\n",
        "    print(f\"O numero de pessoas cadastradas foi {pessoas}\")\n",
        "    print(f'O número de pessoas cadastradas é: {pessoas}')\n",
        "\n",
        "\n",
        ""
      ],
      "metadata": {
        "colab": {
          "base_uri": "https://localhost:8080/"
        },
        "id": "C1fRlp1Pred_",
        "outputId": "8aa9625b-0947-4ff0-f4e9-745985523ab3"
      },
      "execution_count": 24,
      "outputs": [
        {
          "output_type": "stream",
          "name": "stdout",
          "text": [
            "Digite seu nome ou sair para parar gerson\n",
            "Digite sua idade 22\n",
            "Nome: gerson e Idade: 22\n",
            "O numero de pessoas cadastradas foi 1\n",
            "O número de pessoas cadastradas é: 1\n",
            "Digite seu nome ou sair para parar isabela\n",
            "Digite sua idade 12\n",
            "Nome: isabela e Idade: 12\n",
            "O numero de pessoas cadastradas foi 2\n",
            "O número de pessoas cadastradas é: 2\n",
            "Digite seu nome ou sair para parar agenor\n",
            "Digite sua idade 80\n",
            "Nome: agenor e Idade: 80\n",
            "O numero de pessoas cadastradas foi 3\n",
            "O número de pessoas cadastradas é: 3\n",
            "Digite seu nome ou sair para parar sair\n",
            "O numero de idosos é: 1 e adolescentes é: 1\n",
            "A menor idade foi de: 12 e a maior foi de 80\n",
            "A media de idades é de : 38.0\n"
          ]
        }
      ]
    },
    {
      "cell_type": "code",
      "source": [
        "import random\n",
        " help(random)\n"
      ],
      "metadata": {
        "colab": {
          "base_uri": "https://localhost:8080/"
        },
        "id": "MXRgv8EHDY98",
        "outputId": "d4da6b8a-ec5c-46fe-af30-52bd46c41481"
      },
      "execution_count": 22,
      "outputs": [
        {
          "output_type": "stream",
          "name": "stdout",
          "text": [
            "A lista contém 3 nomes.\n"
          ]
        }
      ]
    },
    {
      "cell_type": "markdown",
      "source": [],
      "metadata": {
        "id": "QT9jqptaRP3h"
      }
    }
  ]
}